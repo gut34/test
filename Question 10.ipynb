{
 "cells": [
  {
   "cell_type": "markdown",
   "metadata": {},
   "source": [
    "Created on Fri Dec 17 18:05:21 2021\n",
    "\n",
    "Project Euler Problem 10\n",
    "\n",
    "The sum of the primes below 10 is 2 + 3 + 5 + 7 = 17.\n",
    "\n",
    "Find the sum of all the primes below two million."
   ]
  },
  {
   "cell_type": "code",
   "execution_count": 3,
   "metadata": {},
   "outputs": [
    {
     "name": "stdout",
     "output_type": "stream",
     "text": [
      "142913828922\n"
     ]
    }
   ],
   "source": [
    "def is_prime(number):\n",
    "    for count in range(2,int(number**0.5 + 1)):\n",
    "        if number % count == 0:\n",
    "            return False\n",
    "    return True\n",
    "\n",
    "num = 3\n",
    "sum = 2\n",
    "while num < 2000000:\n",
    "    if is_prime(num) ==  True:\n",
    "        sum += num\n",
    "    num += 2\n",
    "print(sum)"
   ]
  }
 ],
 "metadata": {
  "kernelspec": {
   "display_name": "Python 3.10.5 64-bit",
   "language": "python",
   "name": "python3"
  },
  "language_info": {
   "codemirror_mode": {
    "name": "ipython",
    "version": 3
   },
   "file_extension": ".py",
   "mimetype": "text/x-python",
   "name": "python",
   "nbconvert_exporter": "python",
   "pygments_lexer": "ipython3",
   "version": "3.10.5"
  },
  "orig_nbformat": 4,
  "vscode": {
   "interpreter": {
    "hash": "689d7d1ce704ce18c4097533547d3dac0ab6501a30fd19e47700b34955fb39f1"
   }
  }
 },
 "nbformat": 4,
 "nbformat_minor": 2
}
