{
 "cells": [
  {
   "cell_type": "markdown",
   "metadata": {},
   "source": [
    "Created on Thu Dec  9 23:02:34 2021\n",
    "\n",
    "Project Euler Problem 5\n",
    "\n",
    "2520 is the smallest number that can be divided by each of the numbers from 1 to 10 without any remainder.\n",
    "\n",
    "What is the smallest positive number that is evenly divisible by all of the numbers from 1 to 20?"
   ]
  },
  {
   "cell_type": "code",
   "execution_count": 11,
   "metadata": {},
   "outputs": [
    {
     "name": "stdout",
     "output_type": "stream",
     "text": [
      "2432902008176640000\n",
      "210\n",
      "232792560\n"
     ]
    }
   ],
   "source": [
    "def sum_num(num):\n",
    "    fact = 0\n",
    "\n",
    "    for i in range (1,num+1):\n",
    "        fact += i\n",
    "    return fact\n",
    "\n",
    "def factorial(num):\n",
    "    fact = 1\n",
    "    for i in range (1,num+1):\n",
    "        fact *= i\n",
    "    return fact\n",
    "\n",
    "max = factorial(20)\n",
    "step = sum_num(20)\n",
    "print(max)\n",
    "print(step)\n",
    "num = step\n",
    "\n",
    "while num < max:\n",
    "    if (num % 20 == 0)&(num % 19 == 0)&(num % 18 == 0)&(num % 17 == 0)&(num % 16 == 0)&(num % 14 == 0)&(num % 13 == 0)&(num % 11 == 0):\n",
    "        print(num)\n",
    "        break\n",
    "    else:\n",
    "        num += step"
   ]
  }
 ],
 "metadata": {
  "kernelspec": {
   "display_name": "Python 3.10.5 64-bit",
   "language": "python",
   "name": "python3"
  },
  "language_info": {
   "codemirror_mode": {
    "name": "ipython",
    "version": 3
   },
   "file_extension": ".py",
   "mimetype": "text/x-python",
   "name": "python",
   "nbconvert_exporter": "python",
   "pygments_lexer": "ipython3",
   "version": "3.10.5"
  },
  "orig_nbformat": 4,
  "vscode": {
   "interpreter": {
    "hash": "689d7d1ce704ce18c4097533547d3dac0ab6501a30fd19e47700b34955fb39f1"
   }
  }
 },
 "nbformat": 4,
 "nbformat_minor": 2
}
