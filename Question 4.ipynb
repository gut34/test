{
 "cells": [
  {
   "cell_type": "markdown",
   "metadata": {},
   "source": [
    "Created on Thu Dec  9 20:28:31 2021\n",
    "\n",
    "Project Euler Problem 4\n",
    "\n",
    "A palindromic number reads the same both ways. The largest palindrome made from the product of two 2-digit numbers is 9009 = 91 × 99.\n",
    "\n",
    "Find the largest palindrome made from the product of two 3-digit numbers."
   ]
  },
  {
   "cell_type": "code",
   "execution_count": 8,
   "metadata": {},
   "outputs": [
    {
     "name": "stdout",
     "output_type": "stream",
     "text": [
      "906609\n"
     ]
    }
   ],
   "source": [
    "max_value = 999*999\n",
    "\n",
    "def reverse(number): #Returns a number in reverse so 192 becomes 291\n",
    "    reverse_number = 0\n",
    "    while number >0:\n",
    "        remainder = number%10\n",
    "        reverse_number = reverse_number*10 + remainder\n",
    "        number = number//10\n",
    "    return reverse_number\n",
    "\n",
    "stop = False\n",
    "\n",
    "while (max_value > 1) & (stop != True):\n",
    "    first_factor = 999\n",
    "    if (reverse(max_value) == max_value):\n",
    "        while (first_factor >= 990) & (stop != True):\n",
    "            if (max_value % first_factor == 0):\n",
    "                print(max_value)\n",
    "                stop = True\n",
    "                break\n",
    "            else:\n",
    "                first_factor -= 1\n",
    "        max_value -=1   \n",
    "    else:\n",
    "        max_value -=1"
   ]
  }
 ],
 "metadata": {
  "kernelspec": {
   "display_name": "Python 3.10.5 64-bit",
   "language": "python",
   "name": "python3"
  },
  "language_info": {
   "name": "python",
   "version": "3.10.5"
  },
  "orig_nbformat": 4,
  "vscode": {
   "interpreter": {
    "hash": "689d7d1ce704ce18c4097533547d3dac0ab6501a30fd19e47700b34955fb39f1"
   }
  }
 },
 "nbformat": 4,
 "nbformat_minor": 2
}
