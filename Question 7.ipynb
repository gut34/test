{
 "cells": [
  {
   "cell_type": "markdown",
   "metadata": {},
   "source": [
    "Created on Fri Dec 10 12:37:22 2021\n",
    "\n",
    "Project Euler Problem 7\n",
    "\n",
    "By listing the first six prime numbers: 2, 3, 5, 7, 11, and 13, we can see that the 6th prime is 13.\n",
    "\n",
    "What is the 10 001st prime number?"
   ]
  },
  {
   "cell_type": "code",
   "execution_count": 37,
   "metadata": {},
   "outputs": [
    {
     "name": "stdout",
     "output_type": "stream",
     "text": [
      "False\n",
      "104743\n"
     ]
    }
   ],
   "source": [
    "def is_prime(number):\n",
    "    for count in range(2,int(number**0.5 + 1)):\n",
    "        if number % count == 0:\n",
    "            return False\n",
    "    return True\n",
    "\n",
    "print(is_prime(104731))\n",
    "\n",
    "count = 2 #isprime does not work for 2\n",
    "start = 5\n",
    "while count < 10001:\n",
    "    if is_prime(start) == True:\n",
    "        count += 1\n",
    "    start = start + 2\n",
    "\n",
    "print(start-2)"
   ]
  }
 ],
 "metadata": {
  "kernelspec": {
   "display_name": "Python 3.10.5 64-bit",
   "language": "python",
   "name": "python3"
  },
  "language_info": {
   "codemirror_mode": {
    "name": "ipython",
    "version": 3
   },
   "file_extension": ".py",
   "mimetype": "text/x-python",
   "name": "python",
   "nbconvert_exporter": "python",
   "pygments_lexer": "ipython3",
   "version": "3.10.5"
  },
  "orig_nbformat": 4,
  "vscode": {
   "interpreter": {
    "hash": "689d7d1ce704ce18c4097533547d3dac0ab6501a30fd19e47700b34955fb39f1"
   }
  }
 },
 "nbformat": 4,
 "nbformat_minor": 2
}
