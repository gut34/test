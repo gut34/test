{
 "cells": [
  {
   "cell_type": "markdown",
   "metadata": {},
   "source": [
    "Created on Tue Aug 02 2022\n",
    "\n",
    "Project Euler Problem 14\n",
    "\n",
    "The following iterative sequence is defined for the set of positive integers:\n",
    "\n",
    "n → n/2 (n is even)\n",
    "n → 3n + 1 (n is odd)\n",
    "\n",
    "Using the rule above and starting with 13, we generate the following sequence:\n",
    "\n",
    "13 → 40 → 20 → 10 → 5 → 16 → 8 → 4 → 2 → 1\n",
    "It can be seen that this sequence (starting at 13 and finishing at 1) contains 10 terms. Although it has not been proved yet (Collatz Problem), it is thought that all starting numbers finish at 1.\n",
    "\n",
    "Which starting number, under one million, produces the longest chain?\n",
    "\n",
    "NOTE: Once the chain starts the terms are allowed to go above one million."
   ]
  },
  {
   "cell_type": "code",
   "execution_count": 13,
   "metadata": {},
   "outputs": [
    {
     "name": "stdout",
     "output_type": "stream",
     "text": [
      "525\n",
      "837799\n"
     ]
    }
   ],
   "source": [
    "#Brute Force\n",
    "def collatz(num,count_variable):\n",
    "    while num > 1:\n",
    "        if num % 2 == 0:\n",
    "            num = num/2\n",
    "            count_variable +=1\n",
    "        else:\n",
    "            num = num*3 + 1\n",
    "            count_variable +=1\n",
    "    return(count_variable)\n",
    "\n",
    "largest_count = 1\n",
    "largest_value = 1\n",
    "for i in range(1,1000000):\n",
    "    count = 1\n",
    "    count = collatz(i,count)\n",
    "    if count > largest_count:\n",
    "        largest_count = count\n",
    "        largest_value = i\n",
    "\n",
    "print(largest_count)\n",
    "print(largest_value)"
   ]
  },
  {
   "cell_type": "code",
   "execution_count": 25,
   "metadata": {},
   "outputs": [
    {
     "name": "stdout",
     "output_type": "stream",
     "text": [
      "525\n",
      "837799\n"
     ]
    }
   ],
   "source": [
    "#Fast code\n",
    "dictionary = {1:1,2:2,13:10}\n",
    "\n",
    "largest_count = 1\n",
    "largest_value = 1\n",
    "\n",
    "for j in range(3,1000000):\n",
    "    count = 0\n",
    "    i = j\n",
    "    while i > 1:\n",
    "        if i in dictionary:\n",
    "            count = count + dictionary[i]\n",
    "            break\n",
    "        elif i % 2 == 0:\n",
    "            i /= 2\n",
    "            count +=1\n",
    "        else:\n",
    "            i = 3*i + 1\n",
    "            count +=1\n",
    "\n",
    "    if dictionary.get(j) is None:\n",
    "        dictionary[int(j)] = count\n",
    "\n",
    "    if count > largest_count:\n",
    "        largest_count = count\n",
    "        largest_value = j\n",
    "print(largest_count)\n",
    "print(largest_value)"
   ]
  }
 ],
 "metadata": {
  "kernelspec": {
   "display_name": "Python 3.10.5 64-bit",
   "language": "python",
   "name": "python3"
  },
  "language_info": {
   "codemirror_mode": {
    "name": "ipython",
    "version": 3
   },
   "file_extension": ".py",
   "mimetype": "text/x-python",
   "name": "python",
   "nbconvert_exporter": "python",
   "pygments_lexer": "ipython3",
   "version": "3.10.5"
  },
  "orig_nbformat": 4,
  "vscode": {
   "interpreter": {
    "hash": "689d7d1ce704ce18c4097533547d3dac0ab6501a30fd19e47700b34955fb39f1"
   }
  }
 },
 "nbformat": 4,
 "nbformat_minor": 2
}
