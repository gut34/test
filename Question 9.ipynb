{
 "cells": [
  {
   "cell_type": "markdown",
   "metadata": {},
   "source": [
    "Created on Fri Dec 17 12:53:30 2021\n",
    "\n",
    "Project Euler Problem 9\n",
    "\n",
    "A Pythagorean triplet is a set of three natural numbers, a < b < c, for which,\n",
    "\n",
    "a2 + b2 = c2\n",
    "\n",
    "For example, 32 + 42 = 9 + 16 = 25 = 52.\n",
    "\n",
    "There exists exactly one Pythagorean triplet for which a + b + c = 1000.\n",
    "Find the product abc."
   ]
  },
  {
   "cell_type": "code",
   "execution_count": 9,
   "metadata": {},
   "outputs": [
    {
     "name": "stdout",
     "output_type": "stream",
     "text": [
      "31875000\n",
      "200\n",
      "375\n",
      "425\n"
     ]
    }
   ],
   "source": [
    "count = 1\n",
    "C_array = []\n",
    "Statement = False\n",
    "\n",
    "\n",
    "for b_var in range (2,500):\n",
    "    if Statement == False:\n",
    "        for a_var in range (1,int(b_var)):\n",
    "            if Statement == False:\n",
    "                if (1000**2 == 2000*a_var + 2000*b_var - 2*a_var*b_var):\n",
    "                    c_var = int((a_var**2 + b_var**2)**0.5)\n",
    "                    Product = a_var*b_var*c_var\n",
    "                    print(Product)\n",
    "                    print(a_var)\n",
    "                    print(b_var)\n",
    "                    print(c_var)\n",
    "                    Statement = True\n",
    "                    break\n",
    "    else:\n",
    "        break"
   ]
  }
 ],
 "metadata": {
  "kernelspec": {
   "display_name": "Python 3.10.5 64-bit",
   "language": "python",
   "name": "python3"
  },
  "language_info": {
   "codemirror_mode": {
    "name": "ipython",
    "version": 3
   },
   "file_extension": ".py",
   "mimetype": "text/x-python",
   "name": "python",
   "nbconvert_exporter": "python",
   "pygments_lexer": "ipython3",
   "version": "3.10.5"
  },
  "orig_nbformat": 4,
  "vscode": {
   "interpreter": {
    "hash": "689d7d1ce704ce18c4097533547d3dac0ab6501a30fd19e47700b34955fb39f1"
   }
  }
 },
 "nbformat": 4,
 "nbformat_minor": 2
}
