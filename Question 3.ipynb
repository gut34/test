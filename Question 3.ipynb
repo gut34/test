{
 "cells": [
  {
   "cell_type": "markdown",
   "metadata": {},
   "source": [
    "Created on Tue Jul 27 13:43:17 2021\n",
    "\n",
    "Project Euler Problem 3\n",
    "\n",
    "The prime factors of 13195 are 5, 7, 13 and 29.\n",
    "\n",
    "What is the largest prime factor of the number 600851475143 ?"
   ]
  },
  {
   "cell_type": "code",
   "execution_count": 4,
   "metadata": {},
   "outputs": [
    {
     "name": "stdout",
     "output_type": "stream",
     "text": [
      "71\n",
      "839\n",
      "1471\n",
      "6857\n"
     ]
    }
   ],
   "source": [
    "def is_prime(number):\n",
    "    for count in range(2,int(number**0.5 + 1)):\n",
    "        if number % count == 0:\n",
    "            return False\n",
    "    print(number)\n",
    "    return True\n",
    "\n",
    "def factors(original_number,start_range,end_range):\n",
    "    if start_range > end_range:\n",
    "        return True\n",
    "    for count in range(start_range,end_range):                        #Goes through range between 2 and the original number\"\n",
    "        if (original_number % count == 0):                           #If the original number is divisable by any number of the range then start recursion and break this instance of the for loop\"\n",
    "            largeFactor = int(original_number / count)               #Change end range for recursion\n",
    "            smallFactor = int(count)                                #Change start range for recursion\n",
    "            is_prime(largeFactor)                                #Prints If Prime Number\n",
    "            is_prime(smallFactor)                                #Prints If Prime Number\n",
    "            smallFactor = int(count+1)                              #Changes Start Range for Recursion\n",
    "            factors(original_number,smallFactor,largeFactor)     #Calls Recursion\n",
    "            break                                               #Breaks for loop\n",
    "\n",
    "x = 600851475143\n",
    "\n",
    "factors(x,2,x)"
   ]
  }
 ],
 "metadata": {
  "kernelspec": {
   "display_name": "Python 3.10.5 64-bit",
   "language": "python",
   "name": "python3"
  },
  "language_info": {
   "codemirror_mode": {
    "name": "ipython",
    "version": 3
   },
   "file_extension": ".py",
   "mimetype": "text/x-python",
   "name": "python",
   "nbconvert_exporter": "python",
   "pygments_lexer": "ipython3",
   "version": "3.10.5"
  },
  "orig_nbformat": 4,
  "vscode": {
   "interpreter": {
    "hash": "689d7d1ce704ce18c4097533547d3dac0ab6501a30fd19e47700b34955fb39f1"
   }
  }
 },
 "nbformat": 4,
 "nbformat_minor": 2
}
