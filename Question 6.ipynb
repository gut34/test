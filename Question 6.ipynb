{
 "cells": [
  {
   "cell_type": "markdown",
   "metadata": {},
   "source": [
    "Created on Fri Dec 10 12:19:54 2021\n",
    "\n",
    "Project Euler Problem 6\n",
    "\n",
    "The sum of the squares of the first ten natural numbers is, 385\n",
    "\n",
    "The square of the sum of the first ten natural numbers is, 3025\n",
    "\n",
    "Hence the difference between the sum of the squares of the first ten natural numbers and the square of the sum is, 2640\n",
    "\n",
    "Find the difference between the sum of the squares of the first one hundred natural numbers and the square of the sum."
   ]
  },
  {
   "cell_type": "code",
   "execution_count": 3,
   "metadata": {},
   "outputs": [
    {
     "name": "stdout",
     "output_type": "stream",
     "text": [
      "338350\n",
      "25502500\n",
      "25164150\n"
     ]
    }
   ],
   "source": [
    "def sum_squares(num):\n",
    "    sum = 0\n",
    "    if num == 1:\n",
    "        return 1\n",
    "    else:\n",
    "        sum = sum_squares(num-1)+(num**2)\n",
    "        return sum\n",
    "\n",
    "def mult_squares(num):\n",
    "    sum = 0\n",
    "    while num > 0:\n",
    "        sum += num\n",
    "        num -= 1\n",
    "    return sum**2\n",
    " \n",
    "def difference(num):\n",
    "    sum = mult_squares(num)-sum_squares(num)\n",
    "    return sum\n",
    "\n",
    "print(sum_squares(100))\n",
    "print(mult_squares(100))\n",
    "print(difference(100))"
   ]
  }
 ],
 "metadata": {
  "kernelspec": {
   "display_name": "Python 3.10.5 64-bit",
   "language": "python",
   "name": "python3"
  },
  "language_info": {
   "codemirror_mode": {
    "name": "ipython",
    "version": 3
   },
   "file_extension": ".py",
   "mimetype": "text/x-python",
   "name": "python",
   "nbconvert_exporter": "python",
   "pygments_lexer": "ipython3",
   "version": "3.10.5"
  },
  "orig_nbformat": 4,
  "vscode": {
   "interpreter": {
    "hash": "689d7d1ce704ce18c4097533547d3dac0ab6501a30fd19e47700b34955fb39f1"
   }
  }
 },
 "nbformat": 4,
 "nbformat_minor": 2
}
